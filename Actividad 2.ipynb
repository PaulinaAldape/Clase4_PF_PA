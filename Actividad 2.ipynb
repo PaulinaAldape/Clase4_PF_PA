{
 "cells": [
  {
   "cell_type": "markdown",
   "id": "8c465901",
   "metadata": {},
   "source": [
    "# ACTIVIDAD 2\n"
   ]
  },
  {
   "cell_type": "markdown",
   "id": "f59bae85",
   "metadata": {},
   "source": [
    "### 1.Crear una tupla con una longitud de 5. Usando diferentes tipos de datos.\n"
   ]
  },
  {
   "cell_type": "code",
   "execution_count": 4,
   "id": "14f96e4b",
   "metadata": {},
   "outputs": [],
   "source": [
    "tupla=(5,\"Paulina\",25,\"Azul\",\"Pizza\")"
   ]
  },
  {
   "cell_type": "code",
   "execution_count": 10,
   "id": "fcfb3bae",
   "metadata": {},
   "outputs": [
    {
     "name": "stdout",
     "output_type": "stream",
     "text": [
      "(5, 'Paulina', 25, 'Azul', 'Pizza')\n"
     ]
    }
   ],
   "source": [
    "print(tupla)"
   ]
  },
  {
   "cell_type": "code",
   "execution_count": 11,
   "id": "fab5b3c6",
   "metadata": {},
   "outputs": [
    {
     "data": {
      "text/plain": [
       "tuple"
      ]
     },
     "execution_count": 11,
     "metadata": {},
     "output_type": "execute_result"
    }
   ],
   "source": [
    "type(tupla)"
   ]
  },
  {
   "cell_type": "markdown",
   "id": "a50ad707",
   "metadata": {},
   "source": [
    "### 2.Cambiar la tupla a una lista."
   ]
  },
  {
   "cell_type": "code",
   "execution_count": 12,
   "id": "738538ad",
   "metadata": {},
   "outputs": [
    {
     "name": "stdout",
     "output_type": "stream",
     "text": [
      "[5, 'Paulina', 25, 'Azul', 'Pizza']\n"
     ]
    },
    {
     "data": {
      "text/plain": [
       "list"
      ]
     },
     "execution_count": 12,
     "metadata": {},
     "output_type": "execute_result"
    }
   ],
   "source": [
    "lista=list(tupla)\n",
    "print(lista)\n",
    "type(lista)"
   ]
  },
  {
   "cell_type": "markdown",
   "id": "12ce40dc",
   "metadata": {},
   "source": [
    "### 3.Crear un diccionario donde la clave sea del 1 al 5 y los elementos los datos de una lista.\n"
   ]
  },
  {
   "cell_type": "code",
   "execution_count": 16,
   "id": "c243b6fc",
   "metadata": {},
   "outputs": [],
   "source": [
    "keys=list(range(1,6))"
   ]
  },
  {
   "cell_type": "code",
   "execution_count": 17,
   "id": "a3d22194",
   "metadata": {},
   "outputs": [
    {
     "data": {
      "text/plain": [
       "[1, 2, 3, 4, 5]"
      ]
     },
     "execution_count": 17,
     "metadata": {},
     "output_type": "execute_result"
    }
   ],
   "source": [
    "keys"
   ]
  },
  {
   "cell_type": "code",
   "execution_count": 21,
   "id": "23d9a3b3",
   "metadata": {},
   "outputs": [],
   "source": [
    "diccionario = dict(zip(keys, lista))"
   ]
  },
  {
   "cell_type": "code",
   "execution_count": 22,
   "id": "f889a75f",
   "metadata": {},
   "outputs": [
    {
     "data": {
      "text/plain": [
       "{1: 5, 2: 'Paulina', 3: 25, 4: 'Azul', 5: 'Pizza'}"
      ]
     },
     "execution_count": 22,
     "metadata": {},
     "output_type": "execute_result"
    }
   ],
   "source": [
    "diccionario"
   ]
  },
  {
   "cell_type": "code",
   "execution_count": 23,
   "id": "fa4c659c",
   "metadata": {},
   "outputs": [
    {
     "data": {
      "text/plain": [
       "dict"
      ]
     },
     "execution_count": 23,
     "metadata": {},
     "output_type": "execute_result"
    }
   ],
   "source": [
    "type(diccionario)"
   ]
  },
  {
   "cell_type": "code",
   "execution_count": null,
   "id": "18343713",
   "metadata": {},
   "outputs": [],
   "source": []
  }
 ],
 "metadata": {
  "kernelspec": {
   "display_name": "Python 3 (ipykernel)",
   "language": "python",
   "name": "python3"
  },
  "language_info": {
   "codemirror_mode": {
    "name": "ipython",
    "version": 3
   },
   "file_extension": ".py",
   "mimetype": "text/x-python",
   "name": "python",
   "nbconvert_exporter": "python",
   "pygments_lexer": "ipython3",
   "version": "3.9.12"
  }
 },
 "nbformat": 4,
 "nbformat_minor": 5
}
